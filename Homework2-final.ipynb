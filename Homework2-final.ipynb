{
 "cells": [
  {
   "cell_type": "code",
   "execution_count": 8,
   "metadata": {},
   "outputs": [
    {
     "name": "stdout",
     "output_type": "stream",
     "text": [
      " eigenvalues in diagonal matrix \n",
      " [[0.00964683 0.         0.         0.         0.         0.\n",
      "  0.         0.         0.         0.        ]\n",
      " [0.         0.05953009 0.         0.         0.         0.\n",
      "  0.         0.         0.         0.        ]\n",
      " [0.         0.         0.144559   0.         0.         0.\n",
      "  0.         0.         0.         0.        ]\n",
      " [0.         0.         0.         0.2712889  0.         0.\n",
      "  0.         0.         0.         0.        ]\n",
      " [0.         0.         0.         0.         0.44053915 0.\n",
      "  0.         0.         0.         0.        ]\n",
      " [0.         0.         0.         0.         0.         0.45756912\n",
      "  0.         0.         0.         0.        ]\n",
      " [0.         0.         0.         0.         0.         0.\n",
      "  0.2980154  0.         0.         0.        ]\n",
      " [0.         0.         0.         0.         0.         0.\n",
      "  0.         0.17428527 0.         0.        ]\n",
      " [0.         0.         0.         0.         0.         0.\n",
      "  0.         0.         0.02951196 0.        ]\n",
      " [0.         0.         0.         0.         0.         0.\n",
      "  0.         0.         0.         0.08573986]]\n",
      "[5998.240818, 9997.06803, 13995.895241999999, 17994.722454000002, 21993.549666] energy in cm^1\n"
     ]
    },
    {
     "data": {
      "image/png": "[encoded data removed]",
      "text/plain": [
       "<Figure size 360x360 with 1 Axes>"
      ]
     },
     "metadata": {
      "needs_background": "light"
     },
     "output_type": "display_data"
    }
   ],
   "source": [
    "import numpy as np\n",
    "import matplotlib.pyplot as plt\n",
    "import scipy.linalg as la\n",
    "import scipy.integrate as integrate\n",
    "import math\n",
    "\n",
    "class Matrix(): #this will make my matrix elements\n",
    "    masse= 0.00054858\n",
    "    u= 1.00784/(2*masse)\n",
    "    w= 0.01822\n",
    "\n",
    "    def __init__(self, m, n, L):\n",
    "        self.m= m\n",
    "        self.n= n\n",
    "        self.L= L\n",
    "\n",
    "    def wave_m(self, x): # wavefunction_m\n",
    "        inside = (self.m * math.pi * (x + self.L/2) / self.L)\n",
    "        return math.sqrt(2/self.L) * math.sin(inside)\n",
    "\n",
    "    def wave_n(self, x): # wavefunction_n\n",
    "        inside = (self.n * math.pi * (x + self.L/2) / self.L)\n",
    "        return math.sqrt(2/self.L) * math.sin(inside)\n",
    "\n",
    "    def tsol(self): #I already know what <n|T|n> equals\n",
    "        return ((self.n**2)*(math.pow(math.pi, 2)) / (2 * Matrix.u * math.pow(self.L, 2)))\n",
    "\n",
    "    def vsol(self,x): #V(x)\n",
    "        return (0.5 * Matrix.u * math.pow(Matrix.w, 2) * x**2)\n",
    "\n",
    "    def mwaven_int(self): # <m|V(x)|n>\n",
    "        fun_i= lambda x: self.wave_m(x) * self.vsol(x) * self.wave_n(x)\n",
    "        return integrate.quad(fun_i, -self.L/2, self.L/2)\n",
    "\n",
    "    # i am throwing these in for the plotting part of the homework, they have nothing to do with the matrix elements of this class\n",
    "    def energylev(self, v):\n",
    "        return 1*Matrix.w*(v+0.5)\n",
    "\n",
    "def main():\n",
    "    bigm = np.zeros((10,10)) #Intialize 10x10 matrix\n",
    "    for m in range(1,11): #iterate through m\n",
    "        for n in range(1,11): #iterate through n\n",
    "            matrix_elem= Matrix(m,n,4) #create Matrix element object\n",
    "            if m==n: #if m==n then H= <n|T|n> + <m|V|n>\n",
    "                bigm[m-1,n-1]= matrix_elem.tsol()+ matrix_elem.mwaven_int()[0] \n",
    "            else: #if m=/=n then H= <m|V|n>\n",
    "                bigm[m-1,n-1]= matrix_elem.mwaven_int()[0]\n",
    "                \n",
    "    bigm_eig, evecs= la.eig(bigm) #extract the eigenvalues\n",
    "    bigm_eig= bigm_eig.real #the eigenvalues are real numbers\n",
    "    bigm_diag= np.diag(bigm_eig) #diagonal matrix of the eigenvalues\n",
    "    print(f\" eigenvalues in diagonal matrix \\n {bigm_diag}\")\n",
    "\n",
    "    #getting the exact energy levels\n",
    "    y= []\n",
    "    y1=[]\n",
    "    x1=[]\n",
    "    y_cm=[]\n",
    "    for v in range(1,6):\n",
    "        y.append(matrix_elem.energylev(v))\n",
    "        blah= y[v-1]*219474.6 #h to cm^-1\n",
    "        y_cm.append(blah)\n",
    "    print(f\"{y_cm} energy in cm^1\")\n",
    "    fig = plt.figure(figsize=(5,5))\n",
    "    ax = fig.add_subplot(1, 1, 1, aspect=1)\n",
    "    ax.hlines(y, -1, 1, 'm')\n",
    "\n",
    "    #plotting the potential energy\n",
    "    for x in np.arange(-1,2,0.1):\n",
    "        y1.append(matrix_elem.vsol(x))\n",
    "        x1.append(x)\n",
    "    ax.plot(x1,y1, 'k')\n",
    "    ax.grid(linestyle=\"--\", linewidth=0.5, color='.25', zorder=-10)\n",
    "    plt.xlim(-1, 1)\n",
    "    plt.ylim(0,0.3)\n",
    "    plt.locator_params(axis='y', nbins=1) #weird parameters because i am bad at matplotlib\n",
    "    plt.locator_params(axis='x', nbins=2)\n",
    "    plt.show()\n",
    "\n",
    "if __name__ == \"__main__\":\n",
    "    main()"
   ]
  },
  {
   "cell_type": "code",
   "execution_count": null,
   "metadata": {},
   "outputs": [],
   "source": []
  }
 ],
 "metadata": {
  "kernelspec": {
   "display_name": "Python 3",
   "language": "python",
   "name": "python3"
  },
  "language_info": {
   "codemirror_mode": {
    "name": "ipython",
    "version": 3
   },
   "file_extension": ".py",
   "mimetype": "text/x-python",
   "name": "python",
   "nbconvert_exporter": "python",
   "pygments_lexer": "ipython3",
   "version": "3.7.7"
  }
 },
 "nbformat": 4,
 "nbformat_minor": 4
}
